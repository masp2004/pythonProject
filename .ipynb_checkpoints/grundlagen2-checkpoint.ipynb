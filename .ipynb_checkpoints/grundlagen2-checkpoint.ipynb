{
 "cells": [
  {
   "metadata": {
    "ExecuteTime": {
     "end_time": "2024-10-17T08:36:35.892815Z",
     "start_time": "2024-10-17T08:36:34.119014Z"
    }
   },
   "cell_type": "code",
   "source": [
    "\"\"\" In einem Studiensystem wird die Leistung der Studierenden nach einer numerischen Punktzahl bewertet. Schreibe ein Programm, dass Benutzer:innen nach einer erreichten Punktzahl fragt und eine entsprechende Bewertung zurückgibt: 90 bis 100 Punkte: \"Sehr gut\"; 80 bis 89 Punkte: \"Gut\"; 70 bis 79 Punkte: \"Befriedigend\"; 60 bis 69 Punkte: \"Ausreichend\"; Unter 60 Punkte: \"Nicht bestanden\". \"\"\"\n",
    "\n",
    "# Lösung\n",
    "punkte = int(input(\"Wie viele Punkte hast du erreicht? \"))\n",
    "\n",
    "if 90 <= punkte <= 100:\n",
    "    print(\"Sehr gut\")\n",
    "elif 80 <= punkte <= 89:\n",
    "    print(\"Gut\")\n",
    "elif 70 <= punkte <= 79:\n",
    "    print(\"Befriedigend\")\n",
    "elif 60 <= punkte <= 69:\n",
    "    print(\"Ausreichend\")\n",
    "elif punkte < 60:\n",
    "    print(\"Nicht bestanden\")\n",
    "else:\n",
    "    print(\"Ungültig\")\n",
    "    "
   ],
   "id": "a98c511c237fe510",
   "outputs": [
    {
     "name": "stdout",
     "output_type": "stream",
     "text": [
      "Ungültige Eingabe\n"
     ]
    }
   ],
   "execution_count": 20
  },
  {
   "metadata": {
    "ExecuteTime": {
     "end_time": "2024-10-17T08:15:33.395447Z",
     "start_time": "2024-10-17T08:15:27.191249Z"
    }
   },
   "cell_type": "code",
   "source": [
    "\"\"\" Schreibe ein Programm, in welchem Benutzer:innen drei Integer-Zahlen eingeben können. Das Programm soll den Maximalwert anhand dieser drei Zahlen auswählen, indem ausschließlich die if- und else-Anweisungen sowie der Größer-Gleich-Operator (>=) verwendet wird. Verwende keine anderen in Python oder Modulen integrierten Funktionen, die dir automatisch die größte Zahl auswählen. Tipps: Wenn A größer ist als B und C, ist A das Maximum. Wenn B größer ist als A und C ist B das Maximum. Gilt nichts hiervon, wird wohl C das Maximum sein. \"\"\"\n",
    "\n",
    "# Lösung\n",
    "zahl1 = int(input(\"Gib die erste Zahl ein: \"))\n",
    "zahl2 = int(input(\"Gib die zweite Zahl ein: \"))\n",
    "zahl3 = int(input(\"Gib die dritte Zahl ein: \"))\n",
    "\n",
    "if zahl1 >= zahl2 and zahl1 >= zahl3:\n",
    "    print(f\"Maximalwert: {zahl1}\")\n",
    "elif zahl2 >= zahl1 and zahl2 >= zahl3:\n",
    "    print(f\"Maximalwert: {zahl2}\")\n",
    "else:\n",
    "    print(f\"Maximalwert: {zahl3}\")\n",
    "    "
   ],
   "id": "ee844eb6b4007888",
   "outputs": [
    {
     "name": "stdout",
     "output_type": "stream",
     "text": [
      "Maximalwert: 3\n"
     ]
    }
   ],
   "execution_count": 8
  },
  {
   "metadata": {},
   "cell_type": "code",
   "outputs": [],
   "execution_count": null,
   "source": [
    "\"\"\" Das Programm soll die Blutalkoholkonzentration (in Promille) anhand der von Benutzer:innen eingegebenen Werte ermitteln. Es gilt: Blutalkoholkonzentration (in Promille) = Masse des aufgenommenen Alkohols (in g) / Masse der Person (in kg) * Reduktionsfaktor. Zudem gilt: Masse des Alkohols (in g) = 10 * Volumen des Getränks (in l) * Alkoholvolumenanteil (in %) * 0,8. Der Reduktionsfaktor beträgt 0,7 bei Männern und 0,6 bei Frauen. Schreibe ein Programm, das Benutzer:innen nach ihrem Geschlecht, ihrer Masse und der Masse des aufgenommenen Alkohols fragt und die Blutalkoholkonzentration berechnet. \"\"\"\n",
    "\n",
    "# Lösung\n",
    "\n",
    "geschlecht = input(\"Bist du männlich oder weiblich? \")\n",
    "masse = float(input(\"Wie viel wiegst du (in kg)? \"))\n",
    "volumen = float(input(\"Wie viel Liter Alkohol hast du getrunken? \"))\n",
    "alkoholvolumenanteil = float(input(\"Wie viel Prozent Alkohol war in dem Getränk? \"))\n",
    "\n",
    "masse_alkohol = 10 * volumen * alkoholvolumenanteil * 0.8\n",
    "red_faktor = 0.7 if geschlecht == \"männlich\" else 0.6\n",
    "alkoholkonzentration = masse_alkohol / masse * red_faktor\n",
    "\n",
    "print(f\"Deine Blutalkoholkonzentration beträgt {alkoholkonzentration:.2f} Promille.\")"
   ],
   "id": "4f19e4265e30fbfb"
  },
  {
   "metadata": {},
   "cell_type": "code",
   "outputs": [],
   "execution_count": null,
   "source": [
    "\"\"\" Erweitere den bestehenden BMI-Rechner aus der vorherigen Einheit um eine Funktionalität, welche abhängig des errechneten BMIs mitteilt, ob die Benutzer:innen unter-, normal- oder übergewichtig, adipös sind. \"\"\"\n",
    "\n",
    "#TODO: Lösung"
   ],
   "id": "f2f10a11c91ac7d1"
  },
  {
   "metadata": {},
   "cell_type": "code",
   "outputs": [],
   "execution_count": null,
   "source": [
    "\"\"\" Teste break und continue sowie die for- als auch in while Schleifen. Überlege dir sinnvolle, konkrete Anwendungsfälle für die Verwendung von continue und break. \"\"\"\n",
    "\n",
    "# Lösung\n",
    "\n",
    "# break\n",
    "# Beispiel: Finde die erste Primzahl in einer Liste\n",
    "zahlen = [4, 6, 7, 9, 10, 11, 12]\n",
    "for zahl in zahlen:\n",
    "    for i in range(2, zahl):\n",
    "        if zahl % i == 0:\n",
    "            break\n",
    "    else:\n",
    "        print(f\"Die erste Primzahl in der Liste ist {zahl}\")\n",
    "        break\n",
    "\n",
    "# continue\n",
    "# Beispiel: Drucke alle geraden Zahlen von 0 bis 9\n",
    "for i in range(10):\n",
    "    if i % 2 != 0:\n",
    "        continue\n",
    "    print(i)\n",
    "    "
   ],
   "id": "3590c87c4e07ce56"
  },
  {
   "metadata": {
    "ExecuteTime": {
     "end_time": "2024-10-17T08:20:54.868988Z",
     "start_time": "2024-10-17T08:20:18.400711Z"
    }
   },
   "cell_type": "code",
   "source": [
    "\"\"\" Schreibe ein Programm, welches die Zahlen von 100 bis 0 in absteigender Reihenfolge ausgibt. Nachdem die Zahl 0 ausgegeben wurde, folgt eine anschließende Botschaft, z.B. \"Happy Birthday!\" oder \"Happy New Year\" - diese erfolgt nur einmalig! \"\"\" \n",
    "import time\n",
    "\n",
    "for i in range (100, -1, -1):\n",
    "    print(i)\n",
    "    time.sleep(1)\n",
    "    if i == 0:\n",
    "        print(\"Happy Birthday\")\n",
    "    "
   ],
   "id": "269af48ae4551b3f",
   "outputs": [
    {
     "name": "stdout",
     "output_type": "stream",
     "text": [
      "100\n",
      "99\n",
      "98\n",
      "97\n",
      "96\n",
      "95\n",
      "94\n",
      "93\n",
      "92\n",
      "91\n",
      "90\n",
      "89\n",
      "88\n",
      "87\n",
      "86\n",
      "85\n",
      "84\n",
      "83\n",
      "82\n",
      "81\n",
      "80\n",
      "79\n",
      "78\n",
      "77\n",
      "76\n",
      "75\n",
      "74\n",
      "73\n",
      "72\n",
      "71\n",
      "70\n",
      "69\n",
      "68\n",
      "67\n",
      "66\n",
      "65\n",
      "64\n"
     ]
    },
    {
     "ename": "KeyboardInterrupt",
     "evalue": "",
     "output_type": "error",
     "traceback": [
      "\u001B[0;31m---------------------------------------------------------------------------\u001B[0m",
      "\u001B[0;31mKeyboardInterrupt\u001B[0m                         Traceback (most recent call last)",
      "Cell \u001B[0;32mIn[9], line 6\u001B[0m\n\u001B[1;32m      4\u001B[0m \u001B[38;5;28;01mfor\u001B[39;00m i \u001B[38;5;129;01min\u001B[39;00m \u001B[38;5;28mrange\u001B[39m (\u001B[38;5;241m100\u001B[39m, \u001B[38;5;241m-\u001B[39m\u001B[38;5;241m1\u001B[39m, \u001B[38;5;241m-\u001B[39m\u001B[38;5;241m1\u001B[39m):\n\u001B[1;32m      5\u001B[0m     \u001B[38;5;28mprint\u001B[39m(i)\n\u001B[0;32m----> 6\u001B[0m     \u001B[43mtime\u001B[49m\u001B[38;5;241;43m.\u001B[39;49m\u001B[43msleep\u001B[49m\u001B[43m(\u001B[49m\u001B[38;5;241;43m1\u001B[39;49m\u001B[43m)\u001B[49m\n\u001B[1;32m      7\u001B[0m     \u001B[38;5;28;01mif\u001B[39;00m i \u001B[38;5;241m==\u001B[39m \u001B[38;5;241m0\u001B[39m:\n\u001B[1;32m      8\u001B[0m         \u001B[38;5;28mprint\u001B[39m(\u001B[38;5;124m\"\u001B[39m\u001B[38;5;124mHappy Birthday\u001B[39m\u001B[38;5;124m\"\u001B[39m)\n",
      "\u001B[0;31mKeyboardInterrupt\u001B[0m: "
     ]
    }
   ],
   "execution_count": 9
  },
  {
   "metadata": {
    "ExecuteTime": {
     "end_time": "2024-10-17T08:23:52.464225Z",
     "start_time": "2024-10-17T08:23:50.566708Z"
    }
   },
   "cell_type": "code",
   "source": [
    "\"\"\" Schreibe ein Programm, das testet, ob Eingaben der Benutzer:innen ein Palindrom darstellt und das Prüfungs-Ergebnis ausgeben. Setze das gaze auch als reinen Zahlen-Palindrom-Checker um, wobei die eingegeben ganzen Zahlen nicht als Strings verarbeitet werden dürfen\"\"\"\n",
    "\n",
    "#Lösung\n",
    "wort = input(\"Geben Sie ein Wort ein: \")\n",
    "\n",
    "if wort == wort[::-1]:\n",
    "    print(\"Palindrom\")\n",
    "else:\n",
    "    print(\"Kein Palindrom\")"
   ],
   "id": "af61bda2f76f6fb1",
   "outputs": [
    {
     "name": "stdout",
     "output_type": "stream",
     "text": [
      "Kein Palindrom\n"
     ]
    }
   ],
   "execution_count": 12
  },
  {
   "metadata": {
    "ExecuteTime": {
     "end_time": "2024-10-17T08:28:07.508052Z",
     "start_time": "2024-10-17T08:28:07.503832Z"
    }
   },
   "cell_type": "code",
   "source": [
    "\"\"\" Das Programm soll ein einfaches Schachbrett ausgeben. Dieses besteht aus 8x8 Feldern, wobei sich abwechselnd schwarze und weiße Felder befinden. Nutzen Sie eine for-Schleife zur Erzeugung eines Schachbretts, bei dem weiße Felder als \"W\" und schwarze Felder als \"S\" dargestellt werden. Für Profis: Setze in ähnlicher Art und Weiße zudem ein Programm um, bei denen alle Dominosteine des Legespiels Domino in einem \"Doppel-6er Dominoset\" ausgegeben werden. Jeder Stein soll exakt einmal ausgegeben werden. Die Darstellung der Steine ist z.B.: [1|6] [2|6] usw. \"\"\"\n",
    "\n",
    "# Lösung\n",
    "# Schachbrett\n",
    "for i in range(8):\n",
    "    for j in range(8):\n",
    "        if (i+j) % 2 == 0:\n",
    "            print(\"W\", end=\" \")\n",
    "        else:\n",
    "            print(\"S\", end=\" \")\n",
    "    print()\n",
    "    \n",
    "print(\"\\n\")\n",
    "\n",
    "# Dominosteine\n",
    "for i in range(7):\n",
    "    for j in range(i, 7):\n",
    "        print(f\"[{i+1}|{j+1}]\", end=\" \")\n",
    "    print()"
   ],
   "id": "4682fc2682c36bb7",
   "outputs": [
    {
     "name": "stdout",
     "output_type": "stream",
     "text": [
      "W S W S W S W S \n",
      "S W S W S W S W \n",
      "W S W S W S W S \n",
      "S W S W S W S W \n",
      "W S W S W S W S \n",
      "S W S W S W S W \n",
      "W S W S W S W S \n",
      "S W S W S W S W \n",
      "\n",
      "\n",
      "[1|1] [1|2] [1|3] [1|4] [1|5] [1|6] [1|7] \n",
      "[2|2] [2|3] [2|4] [2|5] [2|6] [2|7] \n",
      "[3|3] [3|4] [3|5] [3|6] [3|7] \n",
      "[4|4] [4|5] [4|6] [4|7] \n",
      "[5|5] [5|6] [5|7] \n",
      "[6|6] [6|7] \n",
      "[7|7] \n"
     ]
    }
   ],
   "execution_count": 14
  },
  {
   "metadata": {
    "ExecuteTime": {
     "end_time": "2024-10-17T09:04:53.323253Z",
     "start_time": "2024-10-17T09:04:53.319778Z"
    }
   },
   "cell_type": "code",
   "source": [
    "#TODO Finde und markiere die vorhandenen Fehler im folgenden Code:\n",
    "print(\"Willkommen zum Altersrechner\")\n",
    "\n",
    "alter_eingabe = input(\"Bitte gib dein Alter ein: \") # Fehler: Eingabe ist ein String, sollte in Integer umgewandelt werden, Syntaxfehler\n",
    "if alter_eingabe > 18 # Fehler: Vergleichsoperator fehlt, Syntaxfehler\n",
    "    print(\"Du bist volljährig.\")\n",
    "else # Fehler: Syntaxfehler, fehlender Doppelpunkt\n",
    "    print(\"Du bist minderjährig.\")    \n",
    "if alter_eingabe = 18: # Fehler: Zuweisung statt Vergleichsoperator, Syntaxfehler\n",
    "    print(\"Du bist genau 18 Jahre alt.\")\n",
    "    \n",
    "print(\"Das Programm endet hier.\") # Fehler: Kein Fehler, aber unnötiger Kommentar"
   ],
   "id": "647f1d9bf475987c",
   "outputs": [
    {
     "ename": "SyntaxError",
     "evalue": "expected ':' (3085105850.py, line 5)",
     "output_type": "error",
     "traceback": [
      "\u001B[0;36m  Cell \u001B[0;32mIn[21], line 5\u001B[0;36m\u001B[0m\n\u001B[0;31m    if alter_eingabe > 18 # Fehler: Vergleichsoperator fehlt, Syntaxfehler\u001B[0m\n\u001B[0m                          ^\u001B[0m\n\u001B[0;31mSyntaxError\u001B[0m\u001B[0;31m:\u001B[0m expected ':'\n"
     ]
    }
   ],
   "execution_count": 21
  },
  {
   "metadata": {},
   "cell_type": "code",
   "outputs": [],
   "execution_count": null,
   "source": "",
   "id": "f876d0980d8eafb5"
  }
 ],
 "metadata": {
  "kernelspec": {
   "display_name": "Python 3",
   "language": "python",
   "name": "python3"
  },
  "language_info": {
   "codemirror_mode": {
    "name": "ipython",
    "version": 2
   },
   "file_extension": ".py",
   "mimetype": "text/x-python",
   "name": "python",
   "nbconvert_exporter": "python",
   "pygments_lexer": "ipython2",
   "version": "2.7.6"
  }
 },
 "nbformat": 4,
 "nbformat_minor": 5
}
