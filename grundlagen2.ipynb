{
 "cells": [
  {
   "metadata": {
    "ExecuteTime": {
     "end_time": "2024-10-17T08:36:35.892815Z",
     "start_time": "2024-10-17T08:36:34.119014Z"
    }
   },
   "cell_type": "code",
   "source": [
    "\"\"\" In einem Studiensystem wird die Leistung der Studierenden nach einer numerischen Punktzahl bewertet. Schreibe ein Programm, dass Benutzer:innen nach einer erreichten Punktzahl fragt und eine entsprechende Bewertung zurückgibt: 90 bis 100 Punkte: \"Sehr gut\"; 80 bis 89 Punkte: \"Gut\"; 70 bis 79 Punkte: \"Befriedigend\"; 60 bis 69 Punkte: \"Ausreichend\"; Unter 60 Punkte: \"Nicht bestanden\". \"\"\"\n",
    "\n",
    "# Lösung\n",
    "punkte = int(input(\"Wie viele Punkte hast du erreicht? \"))\n",
    "\n",
    "if 90 <= punkte <= 100:\n",
    "    print(\"Sehr gut\")\n",
    "elif 80 <= punkte <= 89:\n",
    "    print(\"Gut\")\n",
    "elif 70 <= punkte <= 79:\n",
    "    print(\"Befriedigend\")\n",
    "elif 60 <= punkte <= 69:\n",
    "    print(\"Ausreichend\")\n",
    "elif punkte < 60:\n",
    "    print(\"Nicht bestanden\")\n",
    "else:\n",
    "    print(\"Ungültig\")\n",
    "    "
   ],
   "id": "a98c511c237fe510",
   "outputs": [
    {
     "name": "stdout",
     "output_type": "stream",
     "text": [
      "Ungültige Eingabe\n"
     ]
    }
   ],
   "execution_count": 20
  },
  {
   "metadata": {
    "ExecuteTime": {
     "end_time": "2024-10-17T08:15:33.395447Z",
     "start_time": "2024-10-17T08:15:27.191249Z"
    }
   },
   "cell_type": "code",
   "source": [
    "\"\"\" Schreibe ein Programm, in welchem Benutzer:innen drei Integer-Zahlen eingeben können. Das Programm soll den Maximalwert anhand dieser drei Zahlen auswählen, indem ausschließlich die if- und else-Anweisungen sowie der Größer-Gleich-Operator (>=) verwendet wird. Verwende keine anderen in Python oder Modulen integrierten Funktionen, die dir automatisch die größte Zahl auswählen. Tipps: Wenn A größer ist als B und C, ist A das Maximum. Wenn B größer ist als A und C ist B das Maximum. Gilt nichts hiervon, wird wohl C das Maximum sein. \"\"\"\n",
    "\n",
    "# Lösung\n",
    "zahl1 = int(input(\"Gib die erste Zahl ein: \"))\n",
    "zahl2 = int(input(\"Gib die zweite Zahl ein: \"))\n",
    "zahl3 = int(input(\"Gib die dritte Zahl ein: \"))\n",
    "\n",
    "if zahl1 >= zahl2 and zahl1 >= zahl3:\n",
    "    print(f\"Maximalwert: {zahl1}\")\n",
    "elif zahl2 >= zahl1 and zahl2 >= zahl3:\n",
    "    print(f\"Maximalwert: {zahl2}\")\n",
    "else:\n",
    "    print(f\"Maximalwert: {zahl3}\")\n",
    "    "
   ],
   "id": "ee844eb6b4007888",
   "outputs": [
    {
     "name": "stdout",
     "output_type": "stream",
     "text": [
      "Maximalwert: 3\n"
     ]
    }
   ],
   "execution_count": 8
  },
  {
   "metadata": {},
   "cell_type": "code",
   "outputs": [],
   "execution_count": null,
   "source": [
    "\"\"\" Das Programm soll die Blutalkoholkonzentration (in Promille) anhand der von Benutzer:innen eingegebenen Werte ermitteln. Es gilt: Blutalkoholkonzentration (in Promille) = Masse des aufgenommenen Alkohols (in g) / Masse der Person (in kg) * Reduktionsfaktor. Zudem gilt: Masse des Alkohols (in g) = 10 * Volumen des Getränks (in l) * Alkoholvolumenanteil (in %) * 0,8. Der Reduktionsfaktor beträgt 0,7 bei Männern und 0,6 bei Frauen. Schreibe ein Programm, das Benutzer:innen nach ihrem Geschlecht, ihrer Masse und der Masse des aufgenommenen Alkohols fragt und die Blutalkoholkonzentration berechnet. \"\"\"\n",
    "\n",
    "# Lösung\n",
    "\n",
    "geschlecht = input(\"Bist du männlich oder weiblich? \")\n",
    "masse = float(input(\"Wie viel wiegst du (in kg)? \"))\n",
    "volumen = float(input(\"Wie viel Liter Alkohol hast du getrunken? \"))\n",
    "alkoholvolumenanteil = float(input(\"Wie viel Prozent Alkohol war in dem Getränk? \"))\n",
    "\n",
    "masse_alkohol = 10 * volumen * alkoholvolumenanteil * 0.8\n",
    "red_faktor = 0.7 if geschlecht == \"männlich\" else 0.6\n",
    "alkoholkonzentration = masse_alkohol / masse * red_faktor\n",
    "\n",
    "print(f\"Deine Blutalkoholkonzentration beträgt {alkoholkonzentration:.2f} Promille.\")\n"
   ],
   "id": "4f19e4265e30fbfb"
  },
  {
   "metadata": {},
   "cell_type": "code",
   "outputs": [],
   "execution_count": null,
   "source": "",
   "id": "a7041dff2c0d4a3f"
  },
  {
   "metadata": {
    "ExecuteTime": {
     "end_time": "2024-10-17T09:40:27.754676Z",
     "start_time": "2024-10-17T09:40:20.312854Z"
    }
   },
   "cell_type": "code",
   "source": [
    "# BMI-Rechner\n",
    "masse = float(input(\"Masse in kg: \"))\n",
    "laenge = float(input(\"Körperlänge in m: \"))\n",
    "bmi = masse / laenge ** 2 # ** = Potenz\n",
    "print(f\"Ihr BMI beträgt: {bmi:.2}\")"
   ],
   "id": "ea85f0bb3f142ecf",
   "outputs": [
    {
     "name": "stdout",
     "output_type": "stream",
     "text": [
      "Ihr BMI beträgt: 3e+01\n"
     ]
    }
   ],
   "execution_count": 24
  },
  {
   "metadata": {
    "ExecuteTime": {
     "end_time": "2024-10-17T09:22:33.088124Z",
     "start_time": "2024-10-17T09:22:33.083435Z"
    }
   },
   "cell_type": "code",
   "source": [
    "\"\"\" Erweitere den bestehenden BMI-Rechner aus der vorherigen Einheit um eine Funktionalität, welche abhängig des errechneten BMIs mitteilt, ob die Benutzer:innen unter-, normal- oder übergewichtig, adipös sind. \"\"\"\n",
    "\n",
    "if bmi < 18.5:\n",
    "    print(\"Untergewichtig\")\n",
    "elif 18.5 <= bmi < 25:\n",
    "    print(\"Normalgewichtig\")\n",
    "elif 25 <= bmi < 30:\n",
    "    print(\"Übergewichtig\")\n",
    "else:\n",
    "    print(\"Adipös\")"
   ],
   "id": "f2f10a11c91ac7d1",
   "outputs": [
    {
     "name": "stdout",
     "output_type": "stream",
     "text": [
      "Adipös\n"
     ]
    }
   ],
   "execution_count": 23
  },
  {
   "metadata": {},
   "cell_type": "code",
   "outputs": [],
   "execution_count": null,
   "source": [
    "\"\"\" Teste break und continue sowie die for- als auch in while Schleifen. Überlege dir sinnvolle, konkrete Anwendungsfälle für die Verwendung von continue und break. \"\"\"\n",
    "\n",
    "# Lösung\n",
    "\n",
    "# break\n",
    "# Beispiel: Finde die erste Primzahl in einer Liste\n",
    "zahlen = [4, 6, 7, 9, 10, 11, 12]\n",
    "for zahl in zahlen:\n",
    "    for i in range(2, zahl):\n",
    "        if zahl % i == 0:\n",
    "            break\n",
    "    else:\n",
    "        print(f\"Die erste Primzahl in der Liste ist {zahl}\")\n",
    "        break\n",
    "\n",
    "# continue\n",
    "# Beispiel: Drucke alle geraden Zahlen von 0 bis 9\n",
    "for i in range(10):\n",
    "    if i % 2 != 0:\n",
    "        continue\n",
    "    print(i)\n",
    "    "
   ],
   "id": "3590c87c4e07ce56"
  },
  {
   "metadata": {
    "ExecuteTime": {
     "end_time": "2024-10-17T08:20:54.868988Z",
     "start_time": "2024-10-17T08:20:18.400711Z"
    }
   },
   "cell_type": "code",
   "source": [
    "\"\"\" Schreibe ein Programm, welches die Zahlen von 100 bis 0 in absteigender Reihenfolge ausgibt. Nachdem die Zahl 0 ausgegeben wurde, folgt eine anschließende Botschaft, z.B. \"Happy Birthday!\" oder \"Happy New Year\" - diese erfolgt nur einmalig! \"\"\" \n",
    "import time\n",
    "\n",
    "for i in range (100, -1, -1):\n",
    "    print(i)\n",
    "    time.sleep(1)\n",
    "    if i == 0:\n",
    "        print(\"Happy Birthday\")\n",
    "    "
   ],
   "id": "269af48ae4551b3f",
   "outputs": [
    {
     "name": "stdout",
     "output_type": "stream",
     "text": [
      "100\n",
      "99\n",
      "98\n",
      "97\n",
      "96\n",
      "95\n",
      "94\n",
      "93\n",
      "92\n",
      "91\n",
      "90\n",
      "89\n",
      "88\n",
      "87\n",
      "86\n",
      "85\n",
      "84\n",
      "83\n",
      "82\n",
      "81\n",
      "80\n",
      "79\n",
      "78\n",
      "77\n",
      "76\n",
      "75\n",
      "74\n",
      "73\n",
      "72\n",
      "71\n",
      "70\n",
      "69\n",
      "68\n",
      "67\n",
      "66\n",
      "65\n",
      "64\n"
     ]
    },
    {
     "ename": "KeyboardInterrupt",
     "evalue": "",
     "output_type": "error",
     "traceback": [
      "\u001B[0;31m---------------------------------------------------------------------------\u001B[0m",
      "\u001B[0;31mKeyboardInterrupt\u001B[0m                         Traceback (most recent call last)",
      "Cell \u001B[0;32mIn[9], line 6\u001B[0m\n\u001B[1;32m      4\u001B[0m \u001B[38;5;28;01mfor\u001B[39;00m i \u001B[38;5;129;01min\u001B[39;00m \u001B[38;5;28mrange\u001B[39m (\u001B[38;5;241m100\u001B[39m, \u001B[38;5;241m-\u001B[39m\u001B[38;5;241m1\u001B[39m, \u001B[38;5;241m-\u001B[39m\u001B[38;5;241m1\u001B[39m):\n\u001B[1;32m      5\u001B[0m     \u001B[38;5;28mprint\u001B[39m(i)\n\u001B[0;32m----> 6\u001B[0m     \u001B[43mtime\u001B[49m\u001B[38;5;241;43m.\u001B[39;49m\u001B[43msleep\u001B[49m\u001B[43m(\u001B[49m\u001B[38;5;241;43m1\u001B[39;49m\u001B[43m)\u001B[49m\n\u001B[1;32m      7\u001B[0m     \u001B[38;5;28;01mif\u001B[39;00m i \u001B[38;5;241m==\u001B[39m \u001B[38;5;241m0\u001B[39m:\n\u001B[1;32m      8\u001B[0m         \u001B[38;5;28mprint\u001B[39m(\u001B[38;5;124m\"\u001B[39m\u001B[38;5;124mHappy Birthday\u001B[39m\u001B[38;5;124m\"\u001B[39m)\n",
      "\u001B[0;31mKeyboardInterrupt\u001B[0m: "
     ]
    }
   ],
   "execution_count": 9
  },
  {
   "metadata": {
    "ExecuteTime": {
     "end_time": "2024-10-17T08:23:52.464225Z",
     "start_time": "2024-10-17T08:23:50.566708Z"
    }
   },
   "cell_type": "code",
   "source": [
    "\"\"\" Schreibe ein Programm, das testet, ob Eingaben der Benutzer:innen ein Palindrom darstellt und das Prüfungs-Ergebnis ausgeben. Setze das gaze auch als reinen Zahlen-Palindrom-Checker um, wobei die eingegeben ganzen Zahlen nicht als Strings verarbeitet werden dürfen\"\"\"\n",
    "\n",
    "#Lösung\n",
    "wort = input(\"Geben Sie ein Wort ein: \")\n",
    "\n",
    "if wort == wort[::-1]:\n",
    "    print(\"Palindrom\")\n",
    "else:\n",
    "    print(\"Kein Palindrom\")"
   ],
   "id": "af61bda2f76f6fb1",
   "outputs": [
    {
     "name": "stdout",
     "output_type": "stream",
     "text": [
      "Kein Palindrom\n"
     ]
    }
   ],
   "execution_count": 12
  },
  {
   "metadata": {
    "ExecuteTime": {
     "end_time": "2024-10-17T08:28:07.508052Z",
     "start_time": "2024-10-17T08:28:07.503832Z"
    }
   },
   "cell_type": "code",
   "source": [
    "\"\"\" Das Programm soll ein einfaches Schachbrett ausgeben. Dieses besteht aus 8x8 Feldern, wobei sich abwechselnd schwarze und weiße Felder befinden. Nutzen Sie eine for-Schleife zur Erzeugung eines Schachbretts, bei dem weiße Felder als \"W\" und schwarze Felder als \"S\" dargestellt werden. Für Profis: Setze in ähnlicher Art und Weiße zudem ein Programm um, bei denen alle Dominosteine des Legespiels Domino in einem \"Doppel-6er Dominoset\" ausgegeben werden. Jeder Stein soll exakt einmal ausgegeben werden. Die Darstellung der Steine ist z.B.: [1|6] [2|6] usw. \"\"\"\n",
    "\n",
    "# Lösung\n",
    "# Schachbrett\n",
    "for i in range(8):\n",
    "    for j in range(8):\n",
    "        if (i+j) % 2 == 0:\n",
    "            print(\"W\", end=\" \")\n",
    "        else:\n",
    "            print(\"S\", end=\" \")\n",
    "    print()\n",
    "    \n",
    "print(\"\\n\")\n",
    "\n",
    "# Dominosteine\n",
    "for i in range(7):\n",
    "    for j in range(i, 7):\n",
    "        print(f\"[{i+1}|{j+1}]\", end=\" \")\n",
    "    print()"
   ],
   "id": "4682fc2682c36bb7",
   "outputs": [
    {
     "name": "stdout",
     "output_type": "stream",
     "text": [
      "W S W S W S W S \n",
      "S W S W S W S W \n",
      "W S W S W S W S \n",
      "S W S W S W S W \n",
      "W S W S W S W S \n",
      "S W S W S W S W \n",
      "W S W S W S W S \n",
      "S W S W S W S W \n",
      "\n",
      "\n",
      "[1|1] [1|2] [1|3] [1|4] [1|5] [1|6] [1|7] \n",
      "[2|2] [2|3] [2|4] [2|5] [2|6] [2|7] \n",
      "[3|3] [3|4] [3|5] [3|6] [3|7] \n",
      "[4|4] [4|5] [4|6] [4|7] \n",
      "[5|5] [5|6] [5|7] \n",
      "[6|6] [6|7] \n",
      "[7|7] \n"
     ]
    }
   ],
   "execution_count": 14
  },
  {
   "metadata": {
    "ExecuteTime": {
     "end_time": "2024-10-17T09:04:53.323253Z",
     "start_time": "2024-10-17T09:04:53.319778Z"
    }
   },
   "cell_type": "code",
   "source": [
    "#TODO Finde und markiere die vorhandenen Fehler im folgenden Code:\n",
    "print(\"Willkommen zum Altersrechner\")\n",
    "\n",
    "alter_eingabe = input(\"Bitte gib dein Alter ein: \") # Fehler: Eingabe ist ein String, sollte in Integer umgewandelt werden, Syntaxfehler\n",
    "if alter_eingabe > 18 # Fehler: Vergleichsoperator fehlt, Syntaxfehler\n",
    "    print(\"Du bist volljährig.\")\n",
    "else # Fehler: Syntaxfehler, fehlender Doppelpunkt\n",
    "    print(\"Du bist minderjährig.\")    \n",
    "if alter_eingabe = 18: # Fehler: Zuweisung statt Vergleichsoperator, Syntaxfehler\n",
    "    print(\"Du bist genau 18 Jahre alt.\")\n",
    "    \n",
    "print(\"Das Programm endet hier.\") # Fehler: Kein Fehler, aber unnötiger Kommentar"
   ],
   "id": "647f1d9bf475987c",
   "outputs": [
    {
     "ename": "SyntaxError",
     "evalue": "expected ':' (3085105850.py, line 5)",
     "output_type": "error",
     "traceback": [
      "\u001B[0;36m  Cell \u001B[0;32mIn[21], line 5\u001B[0;36m\u001B[0m\n\u001B[0;31m    if alter_eingabe > 18 # Fehler: Vergleichsoperator fehlt, Syntaxfehler\u001B[0m\n\u001B[0m                          ^\u001B[0m\n\u001B[0;31mSyntaxError\u001B[0m\u001B[0;31m:\u001B[0m expected ':'\n"
     ]
    }
   ],
   "execution_count": 21
  },
  {
   "metadata": {},
   "cell_type": "code",
   "outputs": [],
   "execution_count": null,
   "source": [
    "\"\"\" Entwickle ein Programm, das alle Primzahlen zwischen 1 und einer von den Benutzer:innen eingegebene Zahl findet. Dabei soll das Programm eine Schleife nutzen, um zu überprüfen, ob eine Zahl durch eine andere Zahl ohne Rest teilbar ist - ist eine Zahl eine Primzahl, wird sie ausgegeben. Gleiche dein Ergebnis gerne mit einer Primzahl-Auflistung aus dem Internet ab. Beachte Sonderfälle und fehlerhafte Eingaben etc.\"\"\"\n",
    "\n",
    "# Lösung\n",
    "zahl = int(input(\"Gib eine Zahl ein: \"))\n",
    "for i in range(2, zahl):\n",
    "    for j in range(2, i):\n",
    "        if i % j == 0:\n",
    "            break\n",
    "    else:\n",
    "        print(i)"
   ],
   "id": "f876d0980d8eafb5"
  },
  {
   "metadata": {},
   "cell_type": "code",
   "outputs": [],
   "execution_count": null,
   "source": [
    "\"\"\" Schreibe ein Programm, das eine Zahl zwischen 1 und 3999 in römische Ziffern umwandelt. Verwende Verzweigungen, um zu entscheiden, welche römischen Symbole je nach Wert genutzt werde (z.B. \"I\" für 1 oder \"V\" für 5, \"X\" für 10, \"L\" für 50, etc.). Recherchiere die Funktionsweise römischer Zahlen im Zweifel im Internet. Beachte Sonderfälle und fehlerhafte Eingaben etc.\"\"\"\n",
    "\n",
    "# Lösung\n",
    "zahl = int(input(\"Gib eine Zahl zwischen 1 und 3999 ein: \"))\n",
    "\n",
    "if not 1 <= zahl <= 3999:\n",
    "    print(\"Ungültige Eingabe\")\n",
    "else:\n",
    "    rom_zahlen = {1: \"I\", 4: \"IV\", 5: \"V\", 9: \"IX\", 10: \"X\", 40: \"XL\", 50: \"L\", 90: \"XC\", 100: \"C\", 400: \"CD\", 500: \"D\", 900: \"CM\", 1000: \"M\"}\n",
    "    rom_zahl = \"\"\n",
    "    for i in sorted(rom_zahlen.keys(), reverse=True):\n",
    "        while zahl >= i:\n",
    "            rom_zahl += rom_zahlen[i]\n",
    "            zahl -= i\n",
    "    print(rom_zahl)"
   ],
   "id": "e7064443e19b7691"
  },
  {
   "metadata": {},
   "cell_type": "code",
   "outputs": [],
   "execution_count": null,
   "source": [
    "\"\"\" Anhand einer Eingabe der Benutzer:innen sollen die korrekten binomischen Formeln formuliert werden. Werden zwei Zahlen eingegeben, wird die korrekte binomische Formel ausformuliert und das Egebnis berechnet. Wird eine Zahl und ein Buchstabe eingegeben, so wird die binomische Formel ohne Berechnung eines Ergebnisses ausgegeben. Werden zwei Buchstaben eingegeben, so wird die Regel für die korrekte binomische Formel ausgegeben. Beachte Sonderfälle und fehlerhafte Eingaben etc.  \"\"\"\n",
    "\n",
    "# Lösung\n",
    "eingabe1 = input(\"Gib eine Zahl oder einen Buchstaben ein: \")\n",
    "eingabe2 = input(\"Gib eine Zahl oder einen Buchstaben ein: \")\n",
    "\n",
    "if eingabe1.isdigit() and eingabe2.isdigit():\n",
    "    a = int(eingabe1)\n",
    "    b = int(eingabe2)\n",
    "    print(f\"({a} + {b})^2 = {a**2} + 2*{a}*{b} + {b**2}\")\n",
    "    \n",
    "elif eingabe1.isdigit() and eingabe2.isalpha():\n",
    "    a = int(eingabe1)\n",
    "    b = eingabe2\n",
    "    print(f\"({a} + {b})^2\")\n",
    "    \n",
    "elif eingabe1.isalpha() and eingabe2.isdigit():\n",
    "    a = eingabe1\n",
    "    b = int(eingabe2)\n",
    "    print(f\"({a} + {b})^2\")\n",
    "    \n",
    "elif eingabe1.isalpha() and eingabe2.isalpha():\n",
    "    a = eingabe1\n",
    "    b = eingabe2\n",
    "    print(f\"({a} + {b})^2\")\n",
    "    \n",
    "else:\n",
    "    print(\"Ungültige Eingabe\")"
   ],
   "id": "e4c4a909a9687f60"
  },
  {
   "metadata": {},
   "cell_type": "code",
   "outputs": [],
   "execution_count": null,
   "source": [
    "import random\n",
    "\n",
    "\"\"\" Entwickle ein Spiel, bei dem Benutzer:innen zwischen Kopf oder Zahl wählen können. Anschließend simuliert das Programm einen Münzwurf und gibt aus, ob die Benutzerinnen gewonnen haben\"\"\"\n",
    "\n",
    "# Lösung\n",
    "wahl = input(\"Kopf oder Zahl? \")\n",
    "muenze = random.choice([\"Kopf\", \"Zahl\"])\n",
    "\n",
    "if wahl == muenze:\n",
    "    print(\"Gewonnen\")\n",
    "else:\n",
    "    print(\"Verloren\")"
   ],
   "id": "f23d9e46125643a6"
  },
  {
   "metadata": {},
   "cell_type": "code",
   "outputs": [],
   "execution_count": null,
   "source": [
    "\"\"\" Entwickle ein Würfel spiel, bei dem zwei Benutzer:innen (\"Spieler 1\" und \"Spieler 2\" - oder man kann die Namen zu Beginn selbst eingeben) nacheinander raten müssen, auf welche Seite ein sechsseitiger Würfel fällt. \"\"\"\n",
    "\n",
    "# Lösung\n",
    "Spieler1 = input(\"Spieler 1, gib deinen Namen ein: \")\n",
    "Spieler2 = input(\"Spieler 2, gib deinen Namen ein: \")\n",
    "\n",
    "wuerfel = random.randint(1, 6)\n",
    "print(f\"{Spieler1}, rate die Zahl: \")\n",
    "\n",
    "while True:\n",
    "    rate = int(input())\n",
    "    if rate == wuerfel:\n",
    "        print(f\"{Spieler1} hat gewonnen!\")\n",
    "        break\n",
    "    else:\n",
    "        print(\"Falsch, rate nochmal: \")"
   ],
   "id": "c3f28aba5983b680"
  },
  {
   "metadata": {},
   "cell_type": "code",
   "outputs": [],
   "execution_count": null,
   "source": [
    "\"\"\" Lasse dir ein zufälliges, sicheres Passwort generieren. Tipp: Verwende hierfür neben dem \"random\"-Modul auch das \"string\"-Modul. Mit der Zeile zeichen = string.ascii_letters + string.digits speicherst du eine Auflistung aller Buchstaben und Zahlen im ASCII-System in der Variable zeichen ab. Mit random.choice(zeichen) lässt sich jeweils ein Zeichen zufallsbasiert aussuchen. \"\"\"\n",
    "\n",
    "# Lösung\n",
    "import random\n",
    "import string\n",
    "\n",
    "zeichen = string.ascii_letters + string.digits\n",
    "passwort = \"\".join(random.choice(zeichen) for i in range(10))\n",
    "print (passwort)"
   ],
   "id": "da2e2607c8f767ee"
  }
 ],
 "metadata": {
  "kernelspec": {
   "display_name": "Python 3",
   "language": "python",
   "name": "python3"
  },
  "language_info": {
   "codemirror_mode": {
    "name": "ipython",
    "version": 2
   },
   "file_extension": ".py",
   "mimetype": "text/x-python",
   "name": "python",
   "nbconvert_exporter": "python",
   "pygments_lexer": "ipython2",
   "version": "2.7.6"
  }
 },
 "nbformat": 4,
 "nbformat_minor": 5
}
